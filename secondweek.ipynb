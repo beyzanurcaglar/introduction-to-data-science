{
 "cells": [
  {
   "cell_type": "markdown",
   "id": "02ae150a",
   "metadata": {},
   "source": [
    "### Display User Input"
   ]
  },
  {
   "cell_type": "code",
   "execution_count": null,
   "id": "cb9ead09",
   "metadata": {},
   "outputs": [],
   "source": [
    "# 1. Display User Input\n",
    "# This program takes text from the user and prints it.\n",
    "text = input(\"Enter a text: \")\n",
    "print(\"You entered:\", text)"
   ]
  },
  {
   "cell_type": "markdown",
   "id": "0fbf3aaf",
   "metadata": {},
   "source": [
    "### Sum of Two Numbers"
   ]
  },
  {
   "cell_type": "code",
   "execution_count": null,
   "id": "1893624c",
   "metadata": {},
   "outputs": [],
   "source": [
    "# 2. Sum of Two Numbers\n",
    "# The user enters two numbers, and their sum is displayed.\n",
    "a = float(input(\"Enter the first number: \"))\n",
    "b = float(input(\"Enter the second number: \"))\n",
    "print(\"Sum:\", a + b)"
   ]
  },
  {
   "cell_type": "markdown",
   "id": "34bae4a1",
   "metadata": {},
   "source": [
    "### Even or Odd Number"
   ]
  },
  {
   "cell_type": "code",
   "execution_count": null,
   "id": "33a6f5ff",
   "metadata": {},
   "outputs": [],
   "source": [
    "# 3. Even or Odd Number\n",
    "# The program determines if a number is even or odd.\n",
    "num = int(input(\"Enter a number: \"))\n",
    "if num % 2 == 0:\n",
    "    print(\"Even number\")\n",
    "else:\n",
    "    print(\"Odd number\")"
   ]
  },
  {
   "cell_type": "markdown",
   "id": "674ab56b",
   "metadata": {},
   "source": [
    "### Basic Calculator"
   ]
  },
  {
   "cell_type": "code",
   "execution_count": null,
   "id": "d7784f99",
   "metadata": {},
   "outputs": [],
   "source": [
    "# 4. Basic Calculator\n",
    "# Performs arithmetic operations based on user choice.\n",
    "a = float(input(\"Enter first number: \"))\n",
    "b = float(input(\"Enter second number: \"))\n",
    "op = input(\"Select operation (+, -, *, /): \")\n",
    "\n",
    "if op == '+':\n",
    "    print(a + b)\n",
    "elif op == '-':\n",
    "    print(a - b)\n",
    "elif op == '*':\n",
    "    print(a * b)\n",
    "elif op == '/':\n",
    "    print(a / b if b != 0 else \"Cannot divide by zero!\")\n",
    "else:\n",
    "    print(\"Invalid operation!\")"
   ]
  },
  {
   "cell_type": "markdown",
   "id": "1cb279b0",
   "metadata": {},
   "source": [
    "### Calculator with Error Handling"
   ]
  },
  {
   "cell_type": "code",
   "execution_count": null,
   "id": "c36c181b",
   "metadata": {},
   "outputs": [],
   "source": [
    "# 5. Calculator with Error Handling\n",
    "# Handles invalid inputs and division by zero.\n",
    "try:\n",
    "    a = float(input(\"Enter first number: \"))\n",
    "    b = float(input(\"Enter second number: \"))\n",
    "    op = input(\"Operation (+, -, *, /): \")\n",
    "\n",
    "    if op == '+':\n",
    "        print(a + b)\n",
    "    elif op == '-':\n",
    "        print(a - b)\n",
    "    elif op == '*':\n",
    "        print(a * b)\n",
    "    elif op == '/':\n",
    "        print(a / b)\n",
    "    else:\n",
    "        print(\"Invalid operation.\")\n",
    "except ValueError:\n",
    "    print(\"Please enter numeric values.\")\n",
    "except ZeroDivisionError:\n",
    "    print(\"Division by zero error!\")"
   ]
  },
  {
   "cell_type": "markdown",
   "id": "1ef57c93",
   "metadata": {},
   "source": [
    "### Increment or Decrement"
   ]
  },
  {
   "cell_type": "code",
   "execution_count": null,
   "id": "93724fa4",
   "metadata": {},
   "outputs": [],
   "source": [
    "# 6. Increment or Decrement\n",
    "# Pressing '+' increases and '-' decreases a number.\n",
    "num = 0\n",
    "while True:\n",
    "    key = input(\"Press '+' or '-' (q to quit): \")\n",
    "    if key == '+':\n",
    "        num += 1\n",
    "    elif key == '-':\n",
    "        num -= 1\n",
    "    elif key == 'q':\n",
    "        break\n",
    "    print(\"Number:\", num)"
   ]
  },
  {
   "cell_type": "markdown",
   "id": "fa670633",
   "metadata": {},
   "source": [
    "### Numbers from -10 to +10"
   ]
  },
  {
   "cell_type": "code",
   "execution_count": null,
   "id": "a0150aa8",
   "metadata": {},
   "outputs": [],
   "source": [
    "# 7. Numbers from -10 to +10\n",
    "for i in range(-10, 11):\n",
    "    print(i, end=\" \")"
   ]
  },
  {
   "cell_type": "markdown",
   "id": "d5988ec9",
   "metadata": {},
   "source": [
    "### Add Commas Between Letters"
   ]
  },
  {
   "cell_type": "code",
   "execution_count": null,
   "id": "afe4dfaa",
   "metadata": {},
   "outputs": [],
   "source": [
    "# 8. Add Commas Between Letters\n",
    "text = input(\"Enter text: \")\n",
    "print(\",\".join(text))"
   ]
  },
  {
   "cell_type": "markdown",
   "id": "d7c2a707",
   "metadata": {},
   "source": [
    "### Random 10 Integers"
   ]
  },
  {
   "cell_type": "code",
   "execution_count": null,
   "id": "b6bc446e",
   "metadata": {},
   "outputs": [],
   "source": [
    "# 9. Random 10 Integers\n",
    "import random\n",
    "nums = [random.randint(1, 100) for _ in range(10)]\n",
    "print(nums)"
   ]
  },
  {
   "cell_type": "markdown",
   "id": "a6445df1",
   "metadata": {},
   "source": [
    "### Multiples of 5 Between -100 and +100"
   ]
  },
  {
   "cell_type": "code",
   "execution_count": null,
   "id": "7af770df",
   "metadata": {},
   "outputs": [],
   "source": [
    "# 10. Multiples of 5 Between -100 and +100\n",
    "for i in range(-100, 101):\n",
    "    if i % 5 == 0:\n",
    "        print(i, end=\" \")"
   ]
  },
  {
   "cell_type": "markdown",
   "id": "64e24a3f",
   "metadata": {},
   "source": [
    "### Sort Three Numbers"
   ]
  },
  {
   "cell_type": "code",
   "execution_count": null,
   "id": "04cfe0b3",
   "metadata": {},
   "outputs": [],
   "source": [
    "# 11. Sort Three Numbers\n",
    "nums = [float(input(f\"Enter number {i+1}: \")) for i in range(3)]\n",
    "nums.sort()\n",
    "print(\"Sorted:\", nums)"
   ]
  },
  {
   "cell_type": "markdown",
   "id": "3b2c2ce8",
   "metadata": {},
   "source": [
    "### Factorial and Expansion"
   ]
  },
  {
   "cell_type": "code",
   "execution_count": null,
   "id": "40666285",
   "metadata": {},
   "outputs": [],
   "source": [
    "# 12. Factorial and Expansion\n",
    "n = int(input(\"Enter a number: \"))\n",
    "fact = 1\n",
    "exp = \"\"\n",
    "for i in range(1, n + 1):\n",
    "    fact *= i\n",
    "    exp += str(i) + (\" x \" if i != n else \"\")\n",
    "print(f\"{n}! = {exp} = {fact}\")"
   ]
  },
  {
   "cell_type": "markdown",
   "id": "cf245009",
   "metadata": {},
   "source": [
    "### First and Last Word"
   ]
  },
  {
   "cell_type": "code",
   "execution_count": null,
   "id": "44c9084e",
   "metadata": {},
   "outputs": [],
   "source": [
    "# 13. First and Last Word\n",
    "text = input(\"Enter a sentence: \").split()\n",
    "print(\"First word:\", text[0])\n",
    "print(\"Last word:\", text[-1])"
   ]
  },
  {
   "cell_type": "markdown",
   "id": "70e3781a",
   "metadata": {},
   "source": [
    "### Sum and Average"
   ]
  },
  {
   "cell_type": "code",
   "execution_count": null,
   "id": "b025e3b9",
   "metadata": {},
   "outputs": [],
   "source": [
    "# 14. Sum and Average\n",
    "nums = list(map(float, input(\"Enter numbers separated by space: \").split()))\n",
    "print(\"Sum:\", sum(nums))\n",
    "print(\"Average:\", sum(nums)/len(nums))"
   ]
  },
  {
   "cell_type": "markdown",
   "id": "432acfb4",
   "metadata": {},
   "source": [
    "### Swap Letter Case"
   ]
  },
  {
   "cell_type": "code",
   "execution_count": null,
   "id": "55684da1",
   "metadata": {},
   "outputs": [],
   "source": [
    "# 15. Swap Letter Case\n",
    "text = input(\"Enter text: \")\n",
    "print(text.swapcase())"
   ]
  },
  {
   "cell_type": "markdown",
   "id": "8cd89da0",
   "metadata": {},
   "source": [
    "### Salary Raise"
   ]
  },
  {
   "cell_type": "code",
   "execution_count": null,
   "id": "ef25ac68",
   "metadata": {},
   "outputs": [],
   "source": [
    "# 16. Salary Raise\n",
    "salary = float(input(\"Enter current salary: \"))\n",
    "rate = float(input(\"Enter raise percentage: \"))\n",
    "new_salary = salary + (salary * rate / 100)\n",
    "print(\"New salary:\", new_salary)"
   ]
  },
  {
   "cell_type": "markdown",
   "id": "2c431956",
   "metadata": {},
   "source": [
    "### Sum of Digits in String"
   ]
  },
  {
   "cell_type": "code",
   "execution_count": null,
   "id": "6f79ce73",
   "metadata": {},
   "outputs": [],
   "source": [
    "# 17. Sum of Digits in String\n",
    "text = input(\"Enter text with digits: \")\n",
    "total = sum(int(c) for c in text if c.isdigit())\n",
    "print(\"Sum of digits:\", total)"
   ]
  },
  {
   "cell_type": "markdown",
   "id": "6e19969a",
   "metadata": {},
   "source": [
    "### Infinite Even or Odd"
   ]
  },
  {
   "cell_type": "code",
   "execution_count": null,
   "id": "326ae1ed",
   "metadata": {},
   "outputs": [],
   "source": [
    "# 18. Infinite Even or Odd\n",
    "while True:\n",
    "    entry = input(\"Enter a number (q to quit): \")\n",
    "    if entry == 'q':\n",
    "        break\n",
    "    num = int(entry)\n",
    "    print(f\"{num} -> {'Even' if num % 2 == 0 else 'Odd'}\")"
   ]
  },
  {
   "cell_type": "markdown",
   "id": "5db34ec1",
   "metadata": {},
   "source": [
    "### Numbers Divisible by 11 (1-300)"
   ]
  },
  {
   "cell_type": "code",
   "execution_count": null,
   "id": "76015b01",
   "metadata": {},
   "outputs": [],
   "source": [
    "# 19. Numbers Divisible by 11 (1-300)\n",
    "for i in range(1, 301):\n",
    "    if i % 11 == 0:\n",
    "        print(i, end=\" \")"
   ]
  },
  {
   "cell_type": "markdown",
   "id": "2cd055d8",
   "metadata": {},
   "source": [
    "### Required Final Exam Grade"
   ]
  },
  {
   "cell_type": "code",
   "execution_count": null,
   "id": "c224cb47",
   "metadata": {},
   "outputs": [],
   "source": [
    "# 20. Required Final Exam Grade\n",
    "midterm = float(input(\"Midterm grade: \"))\n",
    "final_needed = (60 - (midterm * 0.4)) / 0.6\n",
    "print(\"You need at least\", round(final_needed, 2), \"in the final exam.\")"
   ]
  },
  {
   "cell_type": "markdown",
   "id": "d700c571",
   "metadata": {},
   "source": [
    "### Triangle Area (Heron Formula)"
   ]
  },
  {
   "cell_type": "code",
   "execution_count": null,
   "id": "d860f8d8",
   "metadata": {},
   "outputs": [],
   "source": [
    "# 21. Triangle Area (Heron Formula)\n",
    "import math\n",
    "a = float(input(\"Side a: \"))\n",
    "b = float(input(\"Side b: \"))\n",
    "c = float(input(\"Side c: \"))\n",
    "s = (a + b + c) / 2\n",
    "area = math.sqrt(s * (s - a) * (s - b) * (s - c))\n",
    "print(\"Triangle area:\", area)"
   ]
  },
  {
   "cell_type": "markdown",
   "id": "4652994f",
   "metadata": {},
   "source": [
    "### Count Vowels in Text"
   ]
  },
  {
   "cell_type": "code",
   "execution_count": null,
   "id": "4a42c3e5",
   "metadata": {},
   "outputs": [],
   "source": [
    "# 22. Count Vowels in Text\n",
    "text = input(\"Enter text: \").lower()\n",
    "vowels = \"aeiou\"\n",
    "print(\"Number of vowels:\", sum(1 for ch in text if ch in vowels))"
   ]
  },
  {
   "cell_type": "markdown",
   "id": "fb4d024f",
   "metadata": {},
   "source": [
    "### Repeat Each Number by Itself"
   ]
  },
  {
   "cell_type": "code",
   "execution_count": null,
   "id": "b07674c7",
   "metadata": {},
   "outputs": [],
   "source": [
    "# 23. Repeat Each Number by Itself\n",
    "for i in range(1, 6):\n",
    "    print(str(i) * i)"
   ]
  },
  {
   "cell_type": "markdown",
   "id": "bd94e00d",
   "metadata": {},
   "source": [
    "### Unique Random Numbers"
   ]
  },
  {
   "cell_type": "code",
   "execution_count": null,
   "id": "e9b16488",
   "metadata": {},
   "outputs": [],
   "source": [
    "# 24. Unique Random Numbers\n",
    "import random\n",
    "nums = random.sample(range(1, 101), 10)\n",
    "print(nums)"
   ]
  },
  {
   "cell_type": "markdown",
   "id": "d96efb61",
   "metadata": {},
   "source": [
    "### Prime Factors"
   ]
  },
  {
   "cell_type": "code",
   "execution_count": null,
   "id": "e5d5a3bb",
   "metadata": {},
   "outputs": [],
   "source": [
    "# 25. Prime Factors\n",
    "n = int(input(\"Enter a number: \"))\n",
    "i = 2\n",
    "print(f\"Prime factors of {n}:\", end=\" \")\n",
    "while n > 1:\n",
    "    if n % i == 0:\n",
    "        print(i, end=\" \")\n",
    "        n //= i\n",
    "    else:\n",
    "        i += 1"
   ]
  },
  {
   "cell_type": "markdown",
   "id": "7661af86",
   "metadata": {},
   "source": [
    "### Longest Word"
   ]
  },
  {
   "cell_type": "code",
   "execution_count": null,
   "id": "78d0856f",
   "metadata": {},
   "outputs": [],
   "source": [
    "# 26. Longest Word\n",
    "text = input(\"Enter a sentence: \").split()\n",
    "longest = max(text, key=len)\n",
    "print(\"Longest word:\", longest)"
   ]
  },
  {
   "cell_type": "markdown",
   "id": "149e0f35",
   "metadata": {},
   "source": [
    "### Letter Grade"
   ]
  },
  {
   "cell_type": "code",
   "execution_count": null,
   "id": "cdc014e8",
   "metadata": {},
   "outputs": [],
   "source": [
    "# 27. Letter Grade\n",
    "grade = float(input(\"Enter your grade: \"))\n",
    "\n",
    "if grade >= 90:\n",
    "    print(\"AA\")\n",
    "elif grade >= 80:\n",
    "    print(\"BA\")\n",
    "elif grade >= 70:\n",
    "    print(\"BB\")\n",
    "elif grade >= 60:\n",
    "    print(\"CB\")\n",
    "elif grade >= 50:\n",
    "    print(\"CC\")\n",
    "else:\n",
    "    print(\"FF - Fail\")"
   ]
  },
  {
   "cell_type": "markdown",
   "id": "0527ba30",
   "metadata": {},
   "source": [
    "### Reverse Each Word"
   ]
  },
  {
   "cell_type": "code",
   "execution_count": null,
   "id": "6151c3a2",
   "metadata": {},
   "outputs": [],
   "source": [
    "# 28. Reverse Each Word\n",
    "text = input(\"Enter a sentence: \")\n",
    "words = text.split()\n",
    "reversed_words = [\"\".join(reversed(w)) for w in words]\n",
    "print(\" \".join(reversed_words))"
   ]
  },
  {
   "cell_type": "markdown",
   "id": "c6291bf9",
   "metadata": {},
   "source": [
    "### Morse Code Converter"
   ]
  },
  {
   "cell_type": "code",
   "execution_count": null,
   "id": "f10d5316",
   "metadata": {},
   "outputs": [],
   "source": [
    "# 29. Morse Code Converter\n",
    "morse = {\n",
    "    'A': '.-', 'B': '-...', 'C': '-.-.', 'D': '-..', 'E': '.', 'F': '..-.', 'G': '--.',\n",
    "    'H': '....', 'I': '..', 'J': '.---', 'K': '-.-', 'L': '.-..', 'M': '--', 'N': '-.',\n",
    "    'O': '---', 'P': '.--.', 'Q': '--.-', 'R': '.-.', 'S': '...', 'T': '-', 'U': '..-',\n",
    "    'V': '...-', 'W': '.--', 'X': '-..-', 'Y': '-.--', 'Z': '--..', ' ': '/'\n",
    "}\n",
    "text = input(\"Enter text: \").upper()\n",
    "print(\"Morse code:\", \" \".join(morse.get(ch, \"\") for ch in text))"
   ]
  },
  {
   "cell_type": "markdown",
   "id": "24a3ea1e",
   "metadata": {},
   "source": [
    "### Cumulative Sum"
   ]
  },
  {
   "cell_type": "code",
   "execution_count": null,
   "id": "6db7712b",
   "metadata": {},
   "outputs": [],
   "source": [
    "# 30. Cumulative Sum\n",
    "nums = [int(x) for x in input(\"Enter numbers: \").split()]\n",
    "cum_sum = []\n",
    "total = 0\n",
    "for n in nums:\n",
    "    total += n\n",
    "    cum_sum.append(total)\n",
    "print(\"Cumulative sum:\", cum_sum)"
   ]
  }
 ],
 "metadata": {},
 "nbformat": 4,
 "nbformat_minor": 5
}
